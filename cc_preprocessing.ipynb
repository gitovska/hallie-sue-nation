{
 "cells": [
  {
   "cell_type": "code",
   "execution_count": 3,
   "metadata": {
    "collapsed": true
   },
   "outputs": [],
   "source": [
    "import spacy, re, openai, random\n",
    "from dotenv import dotenv_values\n",
    "from nltk import sent_tokenize\n",
    "from spacy_download import load_spacy"
   ]
  },
  {
   "cell_type": "code",
   "execution_count": 2,
   "outputs": [],
   "source": [
    "def tweet_process(tweet):\n",
    "    tweet = tweet.lower()\n",
    "    content_part = tweet.split(\"dream\",1)[1]\n",
    "    #skip half word like t from dreamt\n",
    "    content_part = content_part[2:]\n",
    "\n",
    "    hashtag_pattern = \"(#\\w+)\"\n",
    "    res = re.finditer(hashtag_pattern,content_part)\n",
    "    hashtags = []\n",
    "    if res:\n",
    "        for hashtag in res:\n",
    "            hashtags.append(hashtag.group(0))\n",
    "            #remove the hashtag from the original string\n",
    "            content_part= content_part.replace(hashtag.group(0),\"\")\n",
    "\n",
    "    return content_part, hashtags"
   ],
   "metadata": {
    "collapsed": false
   }
  },
  {
   "cell_type": "code",
   "execution_count": 3,
   "outputs": [],
   "source": [
    "def get_noun_verb(tagger,tweet):\n",
    "    doc = tagger(tweet)\n",
    "    noun_list = []\n",
    "    verb_list = []\n",
    "    for token in doc:\n",
    "        if token.pos_ == \"NOUN\":\n",
    "            noun_list.append(token.lemma_)\n",
    "        if token.pos_ == \"VERB\":\n",
    "            verb_list.append(token.lemma_)\n",
    "\n",
    "    # remove the word night from noun list, it comes from \"last night\"\n",
    "    noun_list = [ x for x in noun_list if x != \"night\"]\n",
    "    # move verbs like have, do\n",
    "    verb_list = [x for x in verb_list if x not in [\"have\",\"do\"]]\n",
    "\n",
    "    return set(noun_list),set(verb_list)"
   ],
   "metadata": {
    "collapsed": false
   }
  },
  {
   "cell_type": "code",
   "execution_count": 65,
   "outputs": [],
   "source": [
    "def generate_prompts(nounSet,verbSet):\n",
    "    #get number of prompts for each verb\n",
    "    prompts_num = 8//len(verbSet)\n",
    "\n",
    "    prompts_list_from_pgt3 = []\n",
    "    #only allow one verb in a prompt\n",
    "    verb_list = list(verbSet)\n",
    "    for verb in verb_list:\n",
    "        token_list = list(nounSet)\n",
    "        random.shuffle(token_list)\n",
    "        token_list.append(verb)\n",
    "\n",
    "        #create prompt for gpt3\n",
    "        prompt = \"Generate a noun phrase with keywords\" + \", \".join(token_list)\n",
    "\n",
    "        #prompt = \"Generate a noun phrase with keywords 'world', 'giant','alien' and 'save' \"\n",
    "        completions = openai.Completion.create(\n",
    "            engine=\"text-curie-001\",\n",
    "            prompt=prompt,\n",
    "            max_tokens=12,\n",
    "            n=prompts_num,\n",
    "            temperature=1,\n",
    "            presence_penalty=1,\n",
    "        )\n",
    "        # add generated prompts from gpt to list\n",
    "        prompts_list_from_pgt3= prompts_list_from_pgt3 + [x.text for x in completions.choices]\n",
    "    #get rid of \\n\n",
    "    prompts_list_from_pgt3 = [x.replace(\"\\n\",\"\") for x in prompts_list_from_pgt3]\n",
    "    # get rid of half sentences\n",
    "    #prompts_list_from_pgt3 = [sent_tokenize(x)[0] for x in prompts_list_from_pgt3]\n",
    "    prompts_list_from_pgt3 = [x.split(\",\")[0] for x in prompts_list_from_pgt3]\n",
    "    # append style\n",
    "    prompts_list_from_pgt3 = [ x + \" in the style of a dream\" for x in prompts_list_from_pgt3]\n",
    "\n",
    "    return prompts_list_from_pgt3\n",
    "\n"
   ],
   "metadata": {
    "collapsed": false
   }
  },
  {
   "cell_type": "markdown",
   "source": [
    "# start"
   ],
   "metadata": {
    "collapsed": false
   }
  },
  {
   "cell_type": "code",
   "execution_count": 5,
   "outputs": [],
   "source": [
    "config = dotenv_values(\".env\")\n",
    "openai.api_key = config['OPENAI_API_KEY']"
   ],
   "metadata": {
    "collapsed": false
   }
  },
  {
   "cell_type": "code",
   "execution_count": 52,
   "outputs": [],
   "source": [
    "tweet1 = \"I had a dream that I was a superhero and I was saving people from a burning building. I woke up feeling like a boss #superhero #dreams #hero\""
   ],
   "metadata": {
    "collapsed": false
   }
  },
  {
   "cell_type": "code",
   "execution_count": 68,
   "outputs": [],
   "source": [
    "processed_tweet, hashtag_list = tweet_process(tweet1)"
   ],
   "metadata": {
    "collapsed": false
   }
  },
  {
   "cell_type": "code",
   "execution_count": 4,
   "outputs": [],
   "source": [
    "# load spacy pos tagger\n",
    "nlp = load_spacy(\"en_core_web_sm\")"
   ],
   "metadata": {
    "collapsed": false
   }
  },
  {
   "cell_type": "code",
   "execution_count": 5,
   "outputs": [],
   "source": [
    "res = nlp(\"I had a dream that I was a superhero and I was saving people from a burning building. I woke up feeling like a boss #superhero #dreams #hero\")"
   ],
   "metadata": {
    "collapsed": false
   }
  },
  {
   "cell_type": "code",
   "execution_count": 54,
   "outputs": [],
   "source": [
    "# tag the sentence\n",
    "noun_set,verb_set = get_noun_verb(nlp,processed_tweet)"
   ],
   "metadata": {
    "collapsed": false
   }
  },
  {
   "cell_type": "code",
   "execution_count": null,
   "outputs": [],
   "source": [],
   "metadata": {
    "collapsed": false
   }
  },
  {
   "cell_type": "code",
   "execution_count": 66,
   "outputs": [],
   "source": [
    "prompt_list = generate_prompts(noun_set,verb_set)"
   ],
   "metadata": {
    "collapsed": false
   }
  },
  {
   "cell_type": "code",
   "execution_count": 67,
   "outputs": [
    {
     "data": {
      "text/plain": "['Superheroessavingpeopleinbuildingworkingsuper in the style of a dream',\n 'Superheroes save people in dangerous situations and buildings in the style of a dream',\n 'A superhero theme park where guests can experience the feel in the style of a dream',\n 'Superhero building boss people feel in the style of a dream',\n 'A giant building with people inside is shaking violently. in the style of a dream',\n 'Superhero building people wake in the style of a dream',\n 'heroic people in a building burning in the style of a dream',\n \"building that was once a superhero's headquarters in the style of a dream\"]"
     },
     "execution_count": 67,
     "metadata": {},
     "output_type": "execute_result"
    }
   ],
   "source": [
    "prompt_list"
   ],
   "metadata": {
    "collapsed": false
   }
  },
  {
   "cell_type": "code",
   "execution_count": null,
   "outputs": [],
   "source": [],
   "metadata": {
    "collapsed": false
   }
  }
 ],
 "metadata": {
  "kernelspec": {
   "display_name": "Python 3",
   "language": "python",
   "name": "python3"
  },
  "language_info": {
   "codemirror_mode": {
    "name": "ipython",
    "version": 2
   },
   "file_extension": ".py",
   "mimetype": "text/x-python",
   "name": "python",
   "nbconvert_exporter": "python",
   "pygments_lexer": "ipython2",
   "version": "2.7.6"
  }
 },
 "nbformat": 4,
 "nbformat_minor": 0
}
